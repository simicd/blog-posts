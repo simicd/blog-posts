{
 "cells": [
  {
   "cell_type": "markdown",
   "metadata": {},
   "source": [
    "# Download files - EIOPA rates "
   ]
  },
  {
   "cell_type": "markdown",
   "metadata": {},
   "source": [
    "## Setup"
   ]
  },
  {
   "cell_type": "code",
   "execution_count": 1,
   "metadata": {},
   "outputs": [],
   "source": [
    "import os\n",
    "import datetime\n",
    "from dateutil.relativedelta import relativedelta\n",
    "import requests\n",
    "from zipfile import ZipFile\n",
    "from io import BytesIO"
   ]
  },
  {
   "cell_type": "code",
   "execution_count": 2,
   "metadata": {},
   "outputs": [],
   "source": [
    "# EIOPA rates go back to 2016 - no prior dates are available\n",
    "years = [2019, 2018, 2017, 2016]\n",
    "\n",
    "raw_data_path = r'../datasets/eiopa/raw'\n",
    "clean_data_path = r'../datasets/eiopa/clean'"
   ]
  },
  {
   "cell_type": "code",
   "execution_count": 3,
   "metadata": {},
   "outputs": [],
   "source": [
    "# Create folders if they don't exist\n",
    "os.makedirs(raw_data_path, exist_ok=True) \n",
    "os.makedirs(clean_data_path, exist_ok=True) "
   ]
  },
  {
   "cell_type": "markdown",
   "metadata": {},
   "source": [
    "## Turn into month-end date list "
   ]
  },
  {
   "cell_type": "code",
   "execution_count": 4,
   "metadata": {},
   "outputs": [
    {
     "data": {
      "text/plain": [
       "[datetime.date(2019, 1, 31),\n",
       " datetime.date(2019, 2, 28),\n",
       " datetime.date(2019, 3, 31),\n",
       " datetime.date(2019, 4, 30),\n",
       " datetime.date(2019, 5, 31)]"
      ]
     },
     "execution_count": 4,
     "metadata": {},
     "output_type": "execute_result"
    }
   ],
   "source": [
    "# Get all month-end dates for the years specified above\n",
    "dates = []\n",
    "for year in years:\n",
    "    for month in range(1, 12 + 1):\n",
    "        # relativedelta() adds up to the last day in the month\n",
    "        dates.append(datetime.date(year, month, 1) + relativedelta(day=31))\n",
    "dates[:5]"
   ]
  },
  {
   "cell_type": "markdown",
   "metadata": {},
   "source": [
    "## Generate links "
   ]
  },
  {
   "cell_type": "code",
   "execution_count": 5,
   "metadata": {},
   "outputs": [],
   "source": [
    "def generate_eiopa_rfr_url(date: datetime.date):\n",
    "    base_url= r'https://www.eiopa.europa.eu/sites/default/files/risk_free_interest_rate'\n",
    "    return f\"{base_url}/eiopa_rfr_{str(date).replace('-', '')}.zip\""
   ]
  },
  {
   "cell_type": "code",
   "execution_count": 6,
   "metadata": {},
   "outputs": [
    {
     "data": {
      "text/plain": [
       "'https://www.eiopa.europa.eu/sites/default/files/risk_free_interest_rate/eiopa_rfr_20190131.zip'"
      ]
     },
     "execution_count": 6,
     "metadata": {},
     "output_type": "execute_result"
    }
   ],
   "source": [
    "url_dict = {}\n",
    "for date in dates:\n",
    "    url_dict[str(date)] = generate_eiopa_rfr_url(date)\n",
    "    \n",
    "# Display first link in dictionary (dates are the keys)\n",
    "url_dict[list(url_dict.keys())[0]]"
   ]
  },
  {
   "cell_type": "markdown",
   "metadata": {},
   "source": [
    "## Define download & unzip functions "
   ]
  },
  {
   "cell_type": "code",
   "execution_count": 7,
   "metadata": {},
   "outputs": [],
   "source": [
    "def download_content(url: str):\n",
    "    \"\"\"Submit response to server and return response content if successful\"\"\"\n",
    "    \n",
    "    response = requests.get(url)\n",
    "    if response.ok:\n",
    "        return response.content\n",
    "    else:\n",
    "        return None\n",
    "    \n",
    "\n",
    "def store_file(file_object, filepath: str):\n",
    "    \"\"\"Store file at target location specified in filepath variable\"\"\"\n",
    "    \n",
    "    with open(filepath, 'wb') as file:\n",
    "        file.write(file_object)\n",
    "\n",
    "        \n",
    "def unzip(file_object, filepath: str):\n",
    "    \"\"\"Unzip file and store content at target location specified in filepath variable\"\"\"\n",
    "    \n",
    "    # ZipFile class expects a file location, e.g. ZipFile(\"file.zip\",\"r\") or a virtual file (BytesIO)\n",
    "    with ZipFile(file_object) as zip_file:\n",
    "        zip_file.extractall(filepath)"
   ]
  },
  {
   "cell_type": "markdown",
   "metadata": {},
   "source": [
    "## Download and unzip "
   ]
  },
  {
   "cell_type": "code",
   "execution_count": 8,
   "metadata": {},
   "outputs": [],
   "source": [
    "for date, url in url_dict.items():\n",
    "    try:\n",
    "        # Get zipped file content from web\n",
    "        web_content = download_content(url)\n",
    "        \n",
    "        # Since we get the file directly from the web, it's passed into BytesIO and turned into a virtual file\n",
    "        file_object = BytesIO(web_content)\n",
    "        \n",
    "        # Unzip it into current location with subfolder\n",
    "        unzip(file_object, filepath=os.path.join(raw_data_path, 'EIOPA-RFR', f'{date}'))\n",
    "    except:\n",
    "        print(f\"Download of {date} not successful\")"
   ]
  }
 ],
 "metadata": {
  "hide_input": false,
  "kernelspec": {
   "display_name": "Python 3",
   "language": "python",
   "name": "python3"
  },
  "language_info": {
   "codemirror_mode": {
    "name": "ipython",
    "version": 3
   },
   "file_extension": ".py",
   "mimetype": "text/x-python",
   "name": "python",
   "nbconvert_exporter": "python",
   "pygments_lexer": "ipython3",
   "version": "3.7.3"
  },
  "toc": {
   "base_numbering": 1,
   "nav_menu": {},
   "number_sections": true,
   "sideBar": true,
   "skip_h1_title": false,
   "title_cell": "Table of Contents",
   "title_sidebar": "Contents",
   "toc_cell": false,
   "toc_position": {},
   "toc_section_display": false,
   "toc_window_display": false
  }
 },
 "nbformat": 4,
 "nbformat_minor": 4
}